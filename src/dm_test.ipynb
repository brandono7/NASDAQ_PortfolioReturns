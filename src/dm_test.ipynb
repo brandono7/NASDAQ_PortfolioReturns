{
 "cells": [
  {
   "cell_type": "code",
   "execution_count": 1,
   "metadata": {},
   "outputs": [
    {
     "name": "stdout",
     "output_type": "stream",
     "text": [
      "df_OLS3 shape: (295420, 2)\n",
      "df_OLS shape: (295420, 2)\n",
      "df_RF shape: (295420, 2)\n",
      "df_LightGBM shape: (295420, 2)\n",
      "df_NN shape: (295420, 2)\n"
     ]
    }
   ],
   "source": [
    "import pandas as pd\n",
    "\n",
    "df_OLS3 = pd.read_csv(\"dm_test_OLS3_results.csv\")\n",
    "\n",
    "df_OLS = pd.read_csv(\"dm_test_OLS_results.csv\")\n",
    "\n",
    "df_RF = pd.read_csv(\"dm_test_results_RF.csv\")\n",
    "\n",
    "df_LightGBM = pd.read_csv(\"dm_test_results_LightGBM.csv\")\n",
    "\n",
    "df_NN = pd.read_csv(\"dm_test_results_NN.csv\")\n",
    "\n",
    "# Print shapes of all DataFrames\n",
    "print(\"df_OLS3 shape:\", df_OLS3.shape)\n",
    "print(\"df_OLS shape:\", df_OLS.shape)\n",
    "print(\"df_RF shape:\", df_RF.shape)\n",
    "print(\"df_LightGBM shape:\", df_LightGBM.shape)\n",
    "print(\"df_NN shape:\", df_NN.shape)"
   ]
  },
  {
   "cell_type": "code",
   "execution_count": 2,
   "metadata": {},
   "outputs": [
    {
     "name": "stdout",
     "output_type": "stream",
     "text": [
      "Mismatched y_actual values: set()\n"
     ]
    }
   ],
   "source": [
    "import pandas as pd\n",
    "\n",
    "# Load the data frames\n",
    "# Note for OLS, I will not use OLS3 in the comparison of the dm-test.\n",
    "df_OLS = pd.read_csv(\"dm_test_OLS_results.csv\")\n",
    "df_RF = pd.read_csv(\"dm_test_results_RF.csv\")\n",
    "df_LightGBM = pd.read_csv(\"dm_test_results_LightGBM.csv\")\n",
    "df_NN = pd.read_csv(\"dm_test_results_NN.csv\")\n",
    "# Find mismatches between y_actual columns\n",
    "mismatch_OLS_RF = set(df_OLS['y_actual']).symmetric_difference(set(df_RF['y_actual']))\n",
    "mismatch_OLS_LightGBM = set(df_OLS['y_actual']).symmetric_difference(set(df_LightGBM['y_actual']))\n",
    "mismatch_OLS_NN = set(df_OLS['y_actual']).symmetric_difference(set(df_NN['y_actual']))\n",
    "\n",
    "# Combine all mismatches\n",
    "all_mismatches = mismatch_OLS_RF.union(mismatch_OLS_LightGBM).union(mismatch_OLS_NN)\n",
    "\n",
    "# Print mismatched y_actual values\n",
    "print(\"Mismatched y_actual values:\", all_mismatches)"
   ]
  },
  {
   "cell_type": "code",
   "execution_count": 3,
   "metadata": {},
   "outputs": [
    {
     "name": "stdout",
     "output_type": "stream",
     "text": [
      "        y_actual  y_pred_OLS  y_pred_RF  y_pred_LightGBM  y_pred_NN\n",
      "0       0.015382    0.002589   0.002591         0.002262  -0.000309\n",
      "1       0.005373    0.002701   0.001790         0.002262  -0.000309\n",
      "2       0.011101    0.002768   0.001790         0.002262  -0.000309\n",
      "3       0.010453    0.003404   0.003980         0.002976  -0.000309\n",
      "4      -0.001586    0.003242   0.006321         0.002976   0.001013\n",
      "...          ...         ...        ...              ...        ...\n",
      "295415 -0.007854   -0.005159  -0.000575        -0.001075   0.000351\n",
      "295416  0.006928   -0.005620  -0.000147        -0.001141   0.000163\n",
      "295417  0.001807   -0.005266   0.000061        -0.001169   0.000233\n",
      "295418 -0.016529   -0.006263  -0.003326        -0.002591  -0.000030\n",
      "295419 -0.007918   -0.005606  -0.002557        -0.001872   0.000233\n",
      "\n",
      "[295420 rows x 5 columns]\n"
     ]
    }
   ],
   "source": [
    "import pandas as pd\n",
    "\n",
    "# Load the data frames\n",
    "df_OLS = pd.read_csv(\"dm_test_OLS_results.csv\")\n",
    "df_RF = pd.read_csv(\"dm_test_results_RF.csv\")\n",
    "df_LightGBM = pd.read_csv(\"dm_test_results_LightGBM.csv\")\n",
    "df_NN = pd.read_csv(\"dm_test_results_NN.csv\")\n",
    "\n",
    "# Concatenate the columns based on y_actual\n",
    "merged_df = pd.concat(\n",
    "    [df_OLS.set_index(\"y_actual\"), \n",
    "     df_RF.set_index(\"y_actual\"), \n",
    "     df_LightGBM.set_index(\"y_actual\"), \n",
    "     df_NN.set_index(\"y_actual\")], \n",
    "    axis=1\n",
    ").reset_index()\n",
    "\n",
    "# Rename columns for clarity\n",
    "merged_df.columns = [\n",
    "    \"y_actual\", \n",
    "    \"y_pred_OLS\", \n",
    "    \"y_pred_RF\", \n",
    "    \"y_pred_LightGBM\", \n",
    "    \"y_pred_NN\"\n",
    "]\n",
    "\n",
    "# Print the merged DataFrame\n",
    "print(merged_df)\n"
   ]
  },
  {
   "cell_type": "code",
   "execution_count": 4,
   "metadata": {},
   "outputs": [
    {
     "name": "stdout",
     "output_type": "stream",
     "text": [
      "DM Test Results (Entire Sample)\n",
      "                        OLS                RF          LightGBM  \\\n",
      "OLS                       -  12.044 (p=0.000)  12.121 (p=0.000)   \n",
      "RF        -12.044 (p=0.000)                 -   3.644 (p=0.000)   \n",
      "LightGBM  -12.121 (p=0.000)  -3.644 (p=0.000)                 -   \n",
      "NN        -12.013 (p=0.000)   8.834 (p=0.000)  10.458 (p=0.000)   \n",
      "\n",
      "                         NN  \n",
      "OLS        12.013 (p=0.000)  \n",
      "RF         -8.834 (p=0.000)  \n",
      "LightGBM  -10.458 (p=0.000)  \n",
      "NN                        -  \n"
     ]
    }
   ],
   "source": [
    "import pandas as pd\n",
    "import numpy as np\n",
    "from scipy.stats import norm\n",
    "from itertools import combinations\n",
    "\n",
    "# Diebold-Mariano Test Function \n",
    "def dm_test(e1, e2, h=1):\n",
    "    d = e1**2 - e2**2\n",
    "    T = len(d)\n",
    "    d_bar = np.mean(d)\n",
    "    if T <= 1:\n",
    "        return np.nan, np.nan\n",
    "    if h == 1:\n",
    "        V_d = np.var(d, ddof=1) / T\n",
    "    else:\n",
    "        m = h - 1\n",
    "        gamma0 = np.sum((d - d_bar)**2) / T\n",
    "        gamma_sum = 0\n",
    "        for j in range(1, m+1):\n",
    "            weight = 1 - j/m\n",
    "            gamma = np.sum((d[j:] - d_bar) * (d[:-j] - d_bar)) / T\n",
    "            gamma_sum += weight * gamma\n",
    "        V_d = (gamma0 + 2 * gamma_sum) / T\n",
    "    dm_stat = d_bar / np.sqrt(V_d)\n",
    "    p_value = 2 * (1 - norm.cdf(abs(dm_stat)))\n",
    "    return dm_stat, p_value\n",
    "\n",
    "# Extract prediction columns and compute errors\n",
    "errors = {\n",
    "    'OLS': merged_df['y_actual'] - merged_df['y_pred_OLS'],\n",
    "    'RF': merged_df['y_actual'] - merged_df['y_pred_RF'],\n",
    "    'LightGBM': merged_df['y_actual'] - merged_df['y_pred_LightGBM'],\n",
    "    'NN': merged_df['y_actual'] - merged_df['y_pred_NN']\n",
    "}\n",
    "\n",
    "# Define model names\n",
    "models = ['OLS', 'RF', 'LightGBM', 'NN']\n",
    "\n",
    "# Create empty 4x4 matrix\n",
    "dm_matrix = pd.DataFrame(index=models, columns=models, dtype=\"object\")\n",
    "\n",
    "# Fill matrix with DM test results\n",
    "for m1, m2 in combinations(models, 2):\n",
    "    dm_stat, p_value = dm_test(errors[m1].values, errors[m2].values, h=1)\n",
    "    dm_matrix.loc[m1, m2] = f\"{dm_stat:.3f} (p={p_value:.3f})\"\n",
    "    dm_matrix.loc[m2, m1] = f\"{-dm_stat:.3f} (p={p_value:.3f})\"  # Sign reflects m2 vs m1\n",
    "\n",
    "# Display results\n",
    "print(\"DM Test Results (Entire Sample)\")\n",
    "print(dm_matrix.fillna(\"-\"))\n"
   ]
  },
  {
   "cell_type": "code",
   "execution_count": 5,
   "metadata": {},
   "outputs": [
    {
     "data": {
      "text/html": [
       "<div>\n",
       "<style scoped>\n",
       "    .dataframe tbody tr th:only-of-type {\n",
       "        vertical-align: middle;\n",
       "    }\n",
       "\n",
       "    .dataframe tbody tr th {\n",
       "        vertical-align: top;\n",
       "    }\n",
       "\n",
       "    .dataframe thead th {\n",
       "        text-align: right;\n",
       "    }\n",
       "</style>\n",
       "<table border=\"1\" class=\"dataframe\">\n",
       "  <thead>\n",
       "    <tr style=\"text-align: right;\">\n",
       "      <th></th>\n",
       "      <th>OLS</th>\n",
       "      <th>RF</th>\n",
       "      <th>LightGBM</th>\n",
       "      <th>NN</th>\n",
       "    </tr>\n",
       "  </thead>\n",
       "  <tbody>\n",
       "    <tr>\n",
       "      <th>OLS</th>\n",
       "      <td>-</td>\n",
       "      <td>12.044 (p=0.000)</td>\n",
       "      <td>12.121 (p=0.000)</td>\n",
       "      <td>12.013 (p=0.000)</td>\n",
       "    </tr>\n",
       "    <tr>\n",
       "      <th>RF</th>\n",
       "      <td>-12.044 (p=0.000)</td>\n",
       "      <td>-</td>\n",
       "      <td>3.644 (p=0.000)</td>\n",
       "      <td>-8.834 (p=0.000)</td>\n",
       "    </tr>\n",
       "    <tr>\n",
       "      <th>LightGBM</th>\n",
       "      <td>-12.121 (p=0.000)</td>\n",
       "      <td>-3.644 (p=0.000)</td>\n",
       "      <td>-</td>\n",
       "      <td>-10.458 (p=0.000)</td>\n",
       "    </tr>\n",
       "    <tr>\n",
       "      <th>NN</th>\n",
       "      <td>-12.013 (p=0.000)</td>\n",
       "      <td>8.834 (p=0.000)</td>\n",
       "      <td>10.458 (p=0.000)</td>\n",
       "      <td>-</td>\n",
       "    </tr>\n",
       "  </tbody>\n",
       "</table>\n",
       "</div>"
      ],
      "text/plain": [
       "                        OLS                RF          LightGBM  \\\n",
       "OLS                       -  12.044 (p=0.000)  12.121 (p=0.000)   \n",
       "RF        -12.044 (p=0.000)                 -   3.644 (p=0.000)   \n",
       "LightGBM  -12.121 (p=0.000)  -3.644 (p=0.000)                 -   \n",
       "NN        -12.013 (p=0.000)   8.834 (p=0.000)  10.458 (p=0.000)   \n",
       "\n",
       "                         NN  \n",
       "OLS        12.013 (p=0.000)  \n",
       "RF         -8.834 (p=0.000)  \n",
       "LightGBM  -10.458 (p=0.000)  \n",
       "NN                        -  "
      ]
     },
     "execution_count": 5,
     "metadata": {},
     "output_type": "execute_result"
    }
   ],
   "source": [
    "dm_matrix.fillna(\"-\")"
   ]
  },
  {
   "cell_type": "code",
   "execution_count": null,
   "metadata": {},
   "outputs": [],
   "source": []
  }
 ],
 "metadata": {
  "kernelspec": {
   "display_name": ".venv",
   "language": "python",
   "name": "python3"
  },
  "language_info": {
   "codemirror_mode": {
    "name": "ipython",
    "version": 3
   },
   "file_extension": ".py",
   "mimetype": "text/x-python",
   "name": "python",
   "nbconvert_exporter": "python",
   "pygments_lexer": "ipython3",
   "version": "3.9.6"
  }
 },
 "nbformat": 4,
 "nbformat_minor": 2
}
